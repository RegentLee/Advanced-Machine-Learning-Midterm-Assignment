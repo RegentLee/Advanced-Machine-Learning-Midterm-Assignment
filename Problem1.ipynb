{
 "cells": [
  {
   "cell_type": "code",
   "execution_count": 1,
   "metadata": {},
   "outputs": [],
   "source": [
    "# requirements\n",
    "import numpy as np\n",
    "import matplotlib.pyplot as plt"
   ]
  },
  {
   "cell_type": "code",
   "execution_count": 2,
   "metadata": {},
   "outputs": [],
   "source": [
    "# dataset 4\n",
    "n = 200\n",
    "x_d4 = 3 * (np.random.rand(n, 4) - 0.5)\n",
    "y_d4 = (2 * x_d4[:, 0] - 1 * x_d4[:,1] + 0.5 + 0.5 * np.random.randn(n)) > 0\n",
    "y_d4 = 2 * y_d4 -1"
   ]
  },
  {
   "cell_type": "code",
   "execution_count": 6,
   "metadata": {},
   "outputs": [
    {
     "name": "stdout",
     "output_type": "stream",
     "text": [
      "24\n",
      "[ 0.15465136 -0.07581537 -0.0044486   0.01401387]\n"
     ]
    }
   ],
   "source": [
    "# batch steepest gradient method\n",
    "w_bsg = np.zeros(len(x_d4[0]))\n",
    "j_bsg = []\n",
    "times = 0\n",
    "while 1:\n",
    "    j_t = 0\n",
    "    dj = 0\n",
    "    w_bsg_temp = np.copy(w_bsg)\n",
    "    for i in range(len(y_d4)):\n",
    "        e = np.exp(-y_d4[i]*np.dot(w_bsg.T, x_d4[i]))\n",
    "        temp = e/(1 + e)\n",
    "        dj -= y_d4[i]*np.dot(x_d4[i], temp)\n",
    "        j_t += np.log(1 + e)\n",
    "    dj /= n\n",
    "    dj += 2*w_bsg\n",
    "    w_bsg -= 0.1*dj\n",
    "    j_t /= n\n",
    "    j_t += np.dot(w_bsg.T, w_bsg)\n",
    "    j_bsg.append(j_t)\n",
    "    if np.all(w_bsg == w_bsg_temp) or (times > 1 and np.abs(j_bsg[-2] - j_bsg[-1]) < 1e-5):\n",
    "        print(times)\n",
    "        print(w_bsg)\n",
    "        break\n",
    "    times += 1"
   ]
  },
  {
   "cell_type": "code",
   "execution_count": 7,
   "metadata": {},
   "outputs": [],
   "source": [
    "j_bsg = j_bsg[:-1] - j_bsg[-1]"
   ]
  },
  {
   "cell_type": "code",
   "execution_count": 9,
   "metadata": {},
   "outputs": [
    {
     "name": "stdout",
     "output_type": "stream",
     "text": [
      "7\n",
      "[ 0.15495075 -0.07594175 -0.00445889  0.01403779]\n"
     ]
    }
   ],
   "source": [
    "# Netwon method\n",
    "w_N = np.zeros(len(x_d4[0]))\n",
    "j_N = []\n",
    "times = 0\n",
    "while 1:\n",
    "    j_t = 0\n",
    "    dj = 0\n",
    "    h = 0\n",
    "    w_N_temp = np.copy(w_N)\n",
    "    for i in range(len(y_d4)):\n",
    "        e = np.exp(-y_d4[i]*np.dot(w_N.T, x_d4[i]))\n",
    "        temp = e/(1 + e)\n",
    "        dj -= y_d4[i]*np.dot(x_d4[i], temp)\n",
    "        h += temp*(1 - temp)*np.dot(x_d4[i], x_d4[i].T)\n",
    "        j_t += np.log(1 + e)\n",
    "    dj /= n\n",
    "    dj += 2*w_N\n",
    "    h /= n\n",
    "    h += 2\n",
    "    w_N -= dj/h\n",
    "    j_t /= n\n",
    "    j_t += np.dot(w_N.T, w_N)\n",
    "    j_N.append(j_t)\n",
    "    if np.all(w_N == w_N_temp) or (times > 1 and np.abs(j_N[-2] - j_N[-1]) < 1e-5):\n",
    "    # if times >= 2 and j_t == j_N[-2]:\n",
    "        print(times)\n",
    "        print(w_N)\n",
    "        break\n",
    "    times += 1"
   ]
  },
  {
   "cell_type": "code",
   "execution_count": 10,
   "metadata": {},
   "outputs": [],
   "source": [
    "j_N = j_N[:-1] - j_N[-1]"
   ]
  },
  {
   "cell_type": "code",
   "execution_count": 25,
   "metadata": {},
   "outputs": [
    {
     "data": {
      "image/png": "[encoded data removed]",
      "text/plain": [
       "<Figure size 432x288 with 1 Axes>"
      ]
     },
     "metadata": {
      "needs_background": "light"
     },
     "output_type": "display_data"
    }
   ],
   "source": [
    "x_bsg = [i for i in range(len(j_bsg))]\n",
    "x_N = [i for i in range(len(j_N))]\n",
    "plt.semilogy(x_bsg, j_bsg, label='batch steepest gradient')\n",
    "# plt.plot(x_bsg, j_bsg)\n",
    "plt.semilogy(x_N, j_N, label='Newton')\n",
    "# plt.plot(x_N, j_N)\n",
    "plt.legend()\n",
    "plt.show()"
   ]
  },
  {
   "cell_type": "code",
   "execution_count": 12,
   "metadata": {},
   "outputs": [],
   "source": [
    "# dataset 5\n",
    "n = 200\n",
    "x_d5 = 3 * (np.random.rand(n, 4) - 0.5)\n",
    "W = np.array([[ 2,  -1, 0.5,],\n",
    "              [-3,   2,   1,],\n",
    "              [ 1,   2,   3]])\n",
    "y_d5 = np.argmax(np.dot(np.hstack([x_d5[:,:2], np.ones((n, 1))]), W.T)\n",
    "                        + 0.5 * np.random.randn(n, 3), axis=1)"
   ]
  },
  {
   "cell_type": "code",
   "execution_count": 13,
   "metadata": {},
   "outputs": [
    {
     "name": "stdout",
     "output_type": "stream",
     "text": [
      "[[0. 0. 0. 0.]\n",
      " [0. 0. 0. 0.]\n",
      " [0. 0. 0. 0.]]\n"
     ]
    }
   ],
   "source": [
    "w_bsg_m = np.zeros([np.max(y_d5) + 1, len(x_d5[0])])\n",
    "print(w_bsg_m)"
   ]
  },
  {
   "cell_type": "code",
   "execution_count": 14,
   "metadata": {},
   "outputs": [
    {
     "name": "stdout",
     "output_type": "stream",
     "text": [
      "29\n",
      "[[ 0.05377193 -0.08520181 -0.02120413  0.01746751]\n",
      " [-0.14881708  0.01455194  0.01556193  0.003657  ]\n",
      " [ 0.09504514  0.07064987  0.00564221 -0.02112451]]\n"
     ]
    }
   ],
   "source": [
    "# batch steepest gradient method for multiclass version\n",
    "w_bsg_m = np.zeros([np.max(y_d5) + 1, len(x_d5[0])])\n",
    "j_bsg_m = []\n",
    "times = 0\n",
    "while 1:\n",
    "    j_t = 0\n",
    "    dj = np.zeros_like(w_bsg_m)\n",
    "    temp = np.zeros(np.max(y_d5) + 1)\n",
    "    w_bsg_m_temp = np.copy(w_bsg_m)\n",
    "    for i in range(len(y_d4)):\n",
    "        p = 0\n",
    "        for j in range(len(temp)):\n",
    "            temp[j] = np.exp(np.dot(w_bsg_m[j].T, x_d5[i]))\n",
    "            p += np.exp(np.dot(w_bsg_m[j].T, x_d5[i]))\n",
    "        # print(temp)\n",
    "        temp /= p\n",
    "        for j in range(len(temp)):\n",
    "            if y_d5[i] == j:\n",
    "                dj[j] -= (1 - temp[j])*x_d5[i]\n",
    "            else:\n",
    "                dj[j] += temp[j]*x_d5[i]\n",
    "        j_t += -np.dot(w_bsg_m[y_d5[i]].T, x_d5[i]) + np.log(p)\n",
    "    dj /= n\n",
    "    dj += 2*w_bsg_m\n",
    "    w_bsg_m -= 0.1*dj\n",
    "    j_t /= n\n",
    "    j_t += np.linalg.norm(w_bsg_m, ord=2)**2\n",
    "    j_bsg_m.append(j_t)\n",
    "    if np.all(w_bsg_m == w_bsg_m_temp) or (times > 1 and np.abs(j_bsg_m[-2] - j_bsg_m[-1]) < 1e-5):\n",
    "        print(times)\n",
    "        print(w_bsg_m)\n",
    "        break\n",
    "    times += 1"
   ]
  },
  {
   "cell_type": "code",
   "execution_count": 15,
   "metadata": {},
   "outputs": [],
   "source": [
    "j_bsg_m = j_bsg_m[:-1] - j_bsg_m[-1]\n",
    "# j_bsg_m = [np.linalg.det(j_bsg_m[i]) for i in range(len(j_bsg_m))]"
   ]
  },
  {
   "cell_type": "code",
   "execution_count": 18,
   "metadata": {},
   "outputs": [
    {
     "name": "stdout",
     "output_type": "stream",
     "text": [
      "2\n",
      "[[ 0.05379826 -0.08525039 -0.02121461  0.01747296]\n",
      " [-0.14889719  0.01455682  0.01556684  0.00366343]\n",
      " [ 0.09509893  0.07069357  0.00564777 -0.02113639]]\n"
     ]
    }
   ],
   "source": [
    "# Netwon method for multiclass version\n",
    "w_N_m = np.zeros([np.max(y_d5) + 1, len(x_d5[0])])\n",
    "j_N_m = []\n",
    "times = 0\n",
    "while 1:\n",
    "    j_t = 0\n",
    "    dj = np.zeros_like(w_N_m)\n",
    "    \n",
    "    temp = np.zeros(np.max(y_d5) + 1)\n",
    "    h = np.zeros([len(temp), len(temp)])\n",
    "    w_N_m_temp = np.copy(w_N_m)\n",
    "    for i in range(len(y_d4)):\n",
    "        p = 0\n",
    "        for j in range(len(temp)):\n",
    "            temp[j] = np.exp(np.dot(w_bsg_m[j].T, x_d5[i]))\n",
    "            p += np.exp(np.dot(w_bsg_m[j].T, x_d5[i]))\n",
    "        # print(temp)\n",
    "        temp /= p\n",
    "        for j in range(len(temp)):\n",
    "            if y_d5[i] == j:\n",
    "                dj[j] -= (1 - temp[j])*x_d5[i]\n",
    "            else:\n",
    "                dj[j] += temp[j]*x_d5[i]\n",
    "            for k in range(len(temp)):\n",
    "                h[j][k] = (temp[j]*temp[k] - temp[k])*np.dot(x_d5[i], x_d5[i].T)\n",
    "                # print(h[j][k])\n",
    "            # print(temp[j]*(1 - temp[j])*np.dot(x_d5[i], x_d5[i].T))\n",
    "            # h[j] += temp[j]*(temp[j] - 1)*np.dot(x_d5[i], x_d5[i].T)\n",
    "        # print(temp[0]*(1 - temp[0])*x_d5[i])\n",
    "        # h += temp*(1 - temp)*np.dot(x_d5[i], x_d5[i].T)\n",
    "        j_t += -np.dot(w_N_m[y_d5[i]].T, x_d5[i]) + np.log(p)\n",
    "    dj /= n\n",
    "    dj += 2*w_N_m\n",
    "    h /= n\n",
    "    h += 2*np.identity(len(h))\n",
    "    w_N_m -= np.dot(np.linalg.inv(h), dj)\n",
    "    # w_N_m -= dj/h\n",
    "    j_t /= n\n",
    "    j_t += np.linalg.norm(w_bsg_m, ord=2)**2\n",
    "    j_N_m.append(j_t)\n",
    "    if np.all(w_N_m == w_N_m_temp) or (times > 1 and np.abs(j_N_m[-2] - j_N_m[-1]) < 1e-5):\n",
    "    # if times >= 2 and j_t == j_N[-2]:\n",
    "        print(times)\n",
    "        print(w_N_m)\n",
    "        break\n",
    "    times += 1"
   ]
  },
  {
   "cell_type": "code",
   "execution_count": 19,
   "metadata": {},
   "outputs": [
    {
     "name": "stdout",
     "output_type": "stream",
     "text": [
      "[1.07918517e-01 5.29466801e-07]\n"
     ]
    }
   ],
   "source": [
    "j_N_m = j_N_m[:-1] - j_N_m[-1]\n",
    "print(j_N_m)"
   ]
  },
  {
   "cell_type": "code",
   "execution_count": 27,
   "metadata": {},
   "outputs": [
    {
     "data": {
      "image/png": "[encoded data removed]",
      "text/plain": [
       "<Figure size 432x288 with 1 Axes>"
      ]
     },
     "metadata": {
      "needs_background": "light"
     },
     "output_type": "display_data"
    }
   ],
   "source": [
    "x_bsg_m = [i for i in range(len(j_bsg_m))]\n",
    "x_N_m = [i for i in range(len(j_N_m))]\n",
    "plt.semilogy(x_bsg_m, j_bsg_m, label='batch steepest gradient')\n",
    "# plt.plot(x_bsg_m, j_bsg_m)\n",
    "plt.semilogy(x_N_m, j_N_m, label='Newton')\n",
    "# plt.plot(x_N_m, j_N_m)\n",
    "plt.legend()\n",
    "plt.show()"
   ]
  },
  {
   "cell_type": "code",
   "execution_count": null,
   "metadata": {},
   "outputs": [],
   "source": []
  }
 ],
 "metadata": {
  "kernelspec": {
   "display_name": "Python 3",
   "language": "python",
   "name": "python3"
  },
  "language_info": {
   "codemirror_mode": {
    "name": "ipython",
    "version": 3
   },
   "file_extension": ".py",
   "mimetype": "text/x-python",
   "name": "python",
   "nbconvert_exporter": "python",
   "pygments_lexer": "ipython3",
   "version": "3.8.3"
  }
 },
 "nbformat": 4,
 "nbformat_minor": 4
}
